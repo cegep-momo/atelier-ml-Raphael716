{
 "cells": [
  {
   "cell_type": "markdown",
   "id": "f93021ae",
   "metadata": {},
   "source": [
    "# Atelier 3"
   ]
  },
  {
   "cell_type": "code",
   "execution_count": null,
   "id": "355c45c6",
   "metadata": {},
   "outputs": [],
   "source": [
    "\n",
    "import pandas as pd\n",
    "\n",
    "#Chargement du dataset avec pour séparateur des tabulations\n",
    "dataset = pd.read_csv(\"datas/dataset.csv\",delimiter='\\t')\n",
    "\n",
    "#Suppression des lignes ayant des valeurs manquantes\n",
    "dataset = dataset.dropna(axis=0, how='any')"
   ]
  },
  {
   "cell_type": "code",
   "execution_count": null,
   "id": "3e18d05c",
   "metadata": {},
   "outputs": [],
   "source": [
    "#X = on prend toutes les données, mais uniquement les features 5 à 12 \n",
    "#(ne pas hésiter à ouvrir le fichier afin de bien visualiser les features concernées)\n",
    "#POINTS_ATTAQUE;POINTS_DEFFENCE;POINTS_ATTAQUE_SPECIALE;POINT_DEFENSE_SPECIALE;POINTS_VITESSE;NOMBRE_GENERATIONS\n",
    "X = dataset.iloc[:, 5:12].values"
   ]
  },
  {
   "cell_type": "code",
   "execution_count": null,
   "id": "2032963a",
   "metadata": {},
   "outputs": [],
   "source": [
    "#y = on prend uniquement la feature POURCENTAGE_DE_VICTOIRE (17ème feature)\n",
    "y = dataset.iloc[:, 17].values"
   ]
  },
  {
   "cell_type": "code",
   "execution_count": null,
   "id": "a5859767",
   "metadata": {},
   "outputs": [],
   "source": [
    "#X = on prend toutes les données, mais uniquement les features 4 à 11\n",
    "# POINTS_ATTAQUE;POINTS_DEFFENCE;POINTS_ATTAQUE_SPECIALE;POINT_DEFENSE_SPECIALE;POINTS_VITESSE;NOMBRE_GENERATIONS\n",
    "X = dataset.iloc[:, 5:12].values\n",
    "\n",
    "#y = on prend uniquement la colonne POURCENTAGE_DE_VICTOIRE (16ème feature) \n",
    "#les : signifiant \"Pour toutes les observations\"\n",
    "y = dataset.iloc[:, 16].values\n",
    "\n",
    "#Construction du jeu d'entrainement et du jeu de tests\n",
    "from sklearn.model_selection import train_test_split\n",
    "X_APPRENTISSAGE, X_VALIDATION, Y_APPRENTISSAGE, Y_VALIDATION = train_test_split(X, y, test_size = 0.2, random_state = 0)"
   ]
  },
  {
   "cell_type": "code",
   "execution_count": null,
   "id": "09db7975",
   "metadata": {},
   "outputs": [
    {
     "name": "stdout",
     "output_type": "stream",
     "text": [
      ">> ----------- REGRESSION LINEAIRE -----------\n",
      ">> Precision = 0.8828844617689129\n",
      "------------------------------------------\n"
     ]
    }
   ],
   "source": [
    "#---- ALGORITHME 1: REGRESSION LINEAIRE -----\n",
    "from sklearn.metrics import r2_score\n",
    "from sklearn.linear_model import LinearRegression\n",
    "\n",
    "#Choix de l'algorithme\n",
    "algorithme = LinearRegression()\n",
    "\n",
    "#Apprentissage à l'aide de la fonction fit\n",
    "#Apprentisage effectué sur le jeu de données d'apprentissage\n",
    "algorithme.fit(X_APPRENTISSAGE, Y_APPRENTISSAGE)\n",
    "\n",
    "#Realisation de prédictions sur le jeu de tests (validation)\n",
    "predictions = algorithme.predict(X_VALIDATION)\n",
    "\n",
    "#Calcul de la précision de l'apprentissage à l'aide de la\n",
    "#fonction r2_score en comparant les valeurs prédites\n",
    "#(predictions) et les valeurs attendues (Y_VALIDATION)\n",
    "precision = r2_score(Y_VALIDATION, predictions)\n",
    "\n",
    "print(\">> ----------- REGRESSION LINEAIRE -----------\")\n",
    "print(\">> Precision = \"+str(precision))\n",
    "print(\"------------------------------------------\")"
   ]
  },
  {
   "cell_type": "code",
   "execution_count": null,
   "id": "f46e0bec",
   "metadata": {},
   "outputs": [
    {
     "name": "stdout",
     "output_type": "stream",
     "text": [
      ">> ----------- ARBRES DE DECISIONS -----------\n",
      ">> Precision = 0.8116862798449085\n",
      "------------------------------------------\n"
     ]
    }
   ],
   "source": [
    "#Choix de l'algorithme\n",
    "from sklearn.tree import DecisionTreeRegressor\n",
    "algorithme = DecisionTreeRegressor()\n",
    "algorithme.fit(X_APPRENTISSAGE, Y_APPRENTISSAGE)\n",
    "predictions = algorithme.predict(X_VALIDATION)\n",
    "precision = r2_score(Y_VALIDATION, predictions)\n",
    "\n",
    "print(\">> ----------- ARBRES DE DECISIONS -----------\")\n",
    "print(\">> Precision = \"+str(precision))\n",
    "print(\"------------------------------------------\")"
   ]
  },
  {
   "cell_type": "code",
   "execution_count": null,
   "id": "c74e8bc2",
   "metadata": {},
   "outputs": [
    {
     "data": {
      "text/plain": [
       "['modele/modele_pokemon.mod']"
      ]
     },
     "execution_count": 43,
     "metadata": {},
     "output_type": "execute_result"
    }
   ],
   "source": [
    "# Sauvegarde\n",
    "import joblib\n",
    "fichier = 'modele/modele_pokemon.mod'\n",
    "joblib.dump(algorithme, fichier)"
   ]
  }
 ],
 "metadata": {
  "kernelspec": {
   "display_name": "Python 3",
   "language": "python",
   "name": "python3"
  },
  "language_info": {
   "codemirror_mode": {
    "name": "ipython",
    "version": 3
   },
   "file_extension": ".py",
   "mimetype": "text/x-python",
   "name": "python",
   "nbconvert_exporter": "python",
   "pygments_lexer": "ipython3",
   "version": "3.12.11"
  }
 },
 "nbformat": 4,
 "nbformat_minor": 5
}
