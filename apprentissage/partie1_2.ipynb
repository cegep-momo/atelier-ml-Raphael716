{
 "cells": [
  {
   "cell_type": "code",
   "execution_count": 63,
   "id": "2ff1d498",
   "metadata": {},
   "outputs": [],
   "source": [
    "import numpy as nmp\n",
    "import pandas as pd\n",
    "\n",
    "pd.set_option('display.max_columns', None)  # Afficher toutes les colonnes\n",
    "pd.set_option('future.no_silent_downcasting', True)\n",
    "\n",
    "nosPokemons = pd.read_csv(\"datas/pokedex.csv\")"
   ]
  },
  {
   "cell_type": "code",
   "execution_count": 64,
   "id": "340e1a0a",
   "metadata": {},
   "outputs": [
    {
     "name": "stdout",
     "output_type": "stream",
     "text": [
      "['NUMERO' 'NOM' 'TYPE_1' 'TYPE_2' 'POINTS_DE_VIE' 'NIVEAU_ATTAQUE'\n",
      " 'NIVEAU_DEFENSE' 'NIVEAU_ATTAQUE_SPECIALE' 'NIVEAU_DEFENSE_SPECIALE'\n",
      " 'VITESSE' 'NOMBRE_GENERATIONS' 'LEGENDAIRE']\n",
      "   NUMERO               NOM TYPE_1  TYPE_2  POINTS_DE_VIE  NIVEAU_ATTAQUE  \\\n",
      "0       1        Bulbizarre  Herbe  Poison             45              49   \n",
      "1       2        Herbizarre  Herbe  Poison             60              62   \n",
      "2       3        Florizarre  Herbe  Poison             80              82   \n",
      "3       4   Mega Florizarre  Herbe  Poison             80             100   \n",
      "4       5         Salameche    Feu     NaN             39              52   \n",
      "5       6         Reptincel    Feu     NaN             58              64   \n",
      "6       7         Dracaufeu    Feu     Vol             78              84   \n",
      "7       8  Mega Dracaufeu X    Feu  Dragon             78             130   \n",
      "8       9  Mega Dracaufeu Y    Feu     Vol             78             104   \n",
      "9      10          Carapuce    Eau     NaN             44              48   \n",
      "\n",
      "   NIVEAU_DEFENSE  NIVEAU_ATTAQUE_SPECIALE  NIVEAU_DEFENSE_SPECIALE  VITESSE  \\\n",
      "0              49                       65                       65       45   \n",
      "1              63                       80                       80       60   \n",
      "2              83                      100                      100       80   \n",
      "3             123                      122                      120       80   \n",
      "4              43                       60                       50       65   \n",
      "5              58                       80                       65       80   \n",
      "6              78                      109                       85      100   \n",
      "7             111                      130                       85      100   \n",
      "8              78                      159                      115      100   \n",
      "9              65                       50                       64       43   \n",
      "\n",
      "   NOMBRE_GENERATIONS LEGENDAIRE  \n",
      "0                   1       FAUX  \n",
      "1                   1       FAUX  \n",
      "2                   1       FAUX  \n",
      "3                   1       FAUX  \n",
      "4                   1       FAUX  \n",
      "5                   1       FAUX  \n",
      "6                   1       FAUX  \n",
      "7                   1       FAUX  \n",
      "8                   1       FAUX  \n",
      "9                   1       FAUX  \n"
     ]
    }
   ],
   "source": [
    "# Afficher les noms des colonnes\n",
    "print(nosPokemons.columns.values)\n",
    "\n",
    "print(nosPokemons.head(10))"
   ]
  },
  {
   "cell_type": "code",
   "execution_count": 65,
   "id": "0f9d3b7f",
   "metadata": {},
   "outputs": [],
   "source": [
    "# Remplacement VRAI/FAUX par 1/0\n",
    "nosPokemonsClean = nosPokemons.copy()\n",
    "nosPokemonsClean[\"LEGENDAIRE\"] = nosPokemonsClean[\"LEGENDAIRE\"].replace({\"VRAI\": 1, \"FAUX\": 0})\n",
    "nosPokemonsClean[\"LEGENDAIRE\"] = nosPokemonsClean[\"LEGENDAIRE\"].astype(int)"
   ]
  },
  {
   "cell_type": "code",
   "execution_count": 66,
   "id": "36480c0f",
   "metadata": {},
   "outputs": [
    {
     "name": "stdout",
     "output_type": "stream",
     "text": [
      "   NUMERO              NOM TYPE_1  TYPE_2  POINTS_DE_VIE  NIVEAU_ATTAQUE  \\\n",
      "0       1       Bulbizarre  Herbe  Poison             45              49   \n",
      "1       2       Herbizarre  Herbe  Poison             60              62   \n",
      "2       3       Florizarre  Herbe  Poison             80              82   \n",
      "3       4  Mega Florizarre  Herbe  Poison             80             100   \n",
      "4       5        Salameche    Feu     NaN             39              52   \n",
      "\n",
      "   NIVEAU_DEFENSE  NIVEAU_ATTAQUE_SPECIALE  NIVEAU_DEFENSE_SPECIALE  VITESSE  \\\n",
      "0              49                       65                       65       45   \n",
      "1              63                       80                       80       60   \n",
      "2              83                      100                      100       80   \n",
      "3             123                      122                      120       80   \n",
      "4              43                       60                       50       65   \n",
      "\n",
      "   NOMBRE_GENERATIONS  LEGENDAIRE  \n",
      "0                   1           0  \n",
      "1                   1           0  \n",
      "2                   1           0  \n",
      "3                   1           0  \n",
      "4                   1           0  \n",
      "(800, 12)\n",
      "<class 'pandas.core.frame.DataFrame'>\n",
      "RangeIndex: 800 entries, 0 to 799\n",
      "Data columns (total 12 columns):\n",
      " #   Column                   Non-Null Count  Dtype \n",
      "---  ------                   --------------  ----- \n",
      " 0   NUMERO                   800 non-null    int64 \n",
      " 1   NOM                      799 non-null    object\n",
      " 2   TYPE_1                   800 non-null    object\n",
      " 3   TYPE_2                   413 non-null    object\n",
      " 4   POINTS_DE_VIE            800 non-null    int64 \n",
      " 5   NIVEAU_ATTAQUE           800 non-null    int64 \n",
      " 6   NIVEAU_DEFENSE           800 non-null    int64 \n",
      " 7   NIVEAU_ATTAQUE_SPECIALE  800 non-null    int64 \n",
      " 8   NIVEAU_DEFENSE_SPECIALE  800 non-null    int64 \n",
      " 9   VITESSE                  800 non-null    int64 \n",
      " 10  NOMBRE_GENERATIONS       800 non-null    int64 \n",
      " 11  LEGENDAIRE               800 non-null    int64 \n",
      "dtypes: int64(9), object(3)\n",
      "memory usage: 75.1+ KB\n",
      "None\n"
     ]
    }
   ],
   "source": [
    "# Vérification\n",
    "print(nosPokemonsClean.head())\n",
    "\n",
    "print(nosPokemonsClean.shape)\n",
    "\n",
    "print(nosPokemonsClean.info())\n"
   ]
  },
  {
   "cell_type": "code",
   "execution_count": 67,
   "id": "caf2cc18",
   "metadata": {},
   "outputs": [
    {
     "name": "stdout",
     "output_type": "stream",
     "text": [
      "    NUMERO  NOM  TYPE_1 TYPE_2  POINTS_DE_VIE  NIVEAU_ATTAQUE  NIVEAU_DEFENSE  \\\n",
      "62      63  NaN  Combat    NaN             65             105              60   \n",
      "\n",
      "    NIVEAU_ATTAQUE_SPECIALE  NIVEAU_DEFENSE_SPECIALE  VITESSE  \\\n",
      "62                       60                       70       95   \n",
      "\n",
      "    NOMBRE_GENERATIONS  LEGENDAIRE  \n",
      "62                   1           0  \n"
     ]
    }
   ],
   "source": [
    "#Analyse des features manquantes\n",
    "print(nosPokemonsClean[nosPokemonsClean['NOM'].isnull()])"
   ]
  },
  {
   "cell_type": "code",
   "execution_count": 68,
   "id": "cdb148a2",
   "metadata": {},
   "outputs": [
    {
     "name": "stdout",
     "output_type": "stream",
     "text": [
      "Colossinge\n"
     ]
    }
   ],
   "source": [
    "#Correction de la valeur manquante\n",
    "nosPokemonsClean.loc[62, 'NOM'] = \"Colossinge\"\n",
    "print(nosPokemonsClean['NOM'][62])"
   ]
  },
  {
   "cell_type": "code",
   "execution_count": 69,
   "id": "a17c8bdd",
   "metadata": {},
   "outputs": [
    {
     "name": "stdout",
     "output_type": "stream",
     "text": [
      "['Premier_Pokemon' 'Second_Pokemon' 'Pokemon_Gagnant']\n",
      "   Premier_Pokemon  Second_Pokemon  Pokemon_Gagnant\n",
      "0              266             298              298\n",
      "1              702             701              701\n",
      "2              191             668              668\n",
      "3              237             683              683\n",
      "4              151             231              151\n",
      "5              657             752              657\n",
      "6              192             134              134\n",
      "7               73             545              545\n",
      "8              220             763              763\n",
      "9              302              31               31\n",
      "(50000, 3)\n",
      "<class 'pandas.core.frame.DataFrame'>\n",
      "RangeIndex: 50000 entries, 0 to 49999\n",
      "Data columns (total 3 columns):\n",
      " #   Column           Non-Null Count  Dtype\n",
      "---  ------           --------------  -----\n",
      " 0   Premier_Pokemon  50000 non-null  int64\n",
      " 1   Second_Pokemon   50000 non-null  int64\n",
      " 2   Pokemon_Gagnant  50000 non-null  int64\n",
      "dtypes: int64(3)\n",
      "memory usage: 1.1 MB\n",
      "None\n"
     ]
    }
   ],
   "source": [
    "combats = pd.read_csv(\"datas/combats.csv\")\n",
    "\n",
    "# Affichage des colonnes\n",
    "print(combats.columns.values)\n",
    "\n",
    "# Affichage des 10 premières lignes\n",
    "print(combats.head(10))\n",
    "\n",
    "# Comptage des lignes et colonnes\n",
    "print(combats.shape)\n",
    "\n",
    "# Informations sur le DataFrame\n",
    "print(combats.info())"
   ]
  },
  {
   "cell_type": "code",
   "execution_count": 70,
   "id": "4a025a53",
   "metadata": {},
   "outputs": [
    {
     "name": "stdout",
     "output_type": "stream",
     "text": [
      "                 Second_Pokemon  Pokemon_Gagnant\n",
      "Premier_Pokemon                                 \n",
      "1                            70               70\n",
      "2                            55               55\n",
      "3                            68               68\n",
      "4                            62               62\n",
      "5                            50               50\n",
      "...                         ...              ...\n",
      "796                          49               49\n",
      "797                          64               64\n",
      "798                          60               60\n",
      "799                          75               75\n",
      "800                          61               61\n",
      "\n",
      "[784 rows x 2 columns]\n",
      "                Premier_Pokemon  Pokemon_Gagnant\n",
      "Second_Pokemon                                  \n",
      "1                            63               63\n",
      "2                            66               66\n",
      "3                            64               64\n",
      "4                            63               63\n",
      "5                            62               62\n",
      "...                         ...              ...\n",
      "796                          56               56\n",
      "797                          67               67\n",
      "798                          59               59\n",
      "799                          69               69\n",
      "800                          60               60\n",
      "\n",
      "[784 rows x 2 columns]\n",
      "                 Pokemon_Gagnant  Premier_Pokemon  Second_Pokemon\n",
      "Premier_Pokemon                                                  \n",
      "1                            133              NaN             NaN\n",
      "2                            121              NaN             NaN\n",
      "3                            132              NaN             NaN\n",
      "4                            125              NaN             NaN\n",
      "5                            112              NaN             NaN\n",
      "...                          ...              ...             ...\n",
      "796                          105              NaN             NaN\n",
      "797                          131              NaN             NaN\n",
      "798                          119              NaN             NaN\n",
      "799                          144              NaN             NaN\n",
      "800                          121              NaN             NaN\n",
      "\n",
      "[784 rows x 3 columns]\n"
     ]
    }
   ],
   "source": [
    "#Calcul du nombre de combats menés\n",
    "\n",
    "#3.1\n",
    "nbFoisPremierePosition = combats.groupby('Premier_Pokemon').count()\n",
    "print(nbFoisPremierePosition)\n",
    "\n",
    "#3.2\n",
    "nbFoisSecondePosition = combats.groupby('Second_Pokemon').count()\n",
    "print(nbFoisSecondePosition)\n",
    "\n",
    "#3.3\n",
    "nombreTotalDeCombats = nbFoisPremierePosition + nbFoisSecondePosition\n",
    "print(nombreTotalDeCombats)"
   ]
  },
  {
   "cell_type": "code",
   "execution_count": 71,
   "id": "c808597e",
   "metadata": {},
   "outputs": [
    {
     "name": "stdout",
     "output_type": "stream",
     "text": [
      "                 Premier_Pokemon  Second_Pokemon\n",
      "Pokemon_Gagnant                                 \n",
      "1                             37              37\n",
      "2                             46              46\n",
      "3                             89              89\n",
      "4                             70              70\n",
      "5                             55              55\n",
      "...                          ...             ...\n",
      "796                           39              39\n",
      "797                          116             116\n",
      "798                           60              60\n",
      "799                           89              89\n",
      "800                           75              75\n",
      "\n",
      "[783 rows x 2 columns]\n"
     ]
    }
   ],
   "source": [
    "#Nombre de combats gagnés\n",
    "nombreDeVictoires = combats.groupby('Pokemon_Gagnant').count()\n",
    "print(nombreDeVictoires)"
   ]
  },
  {
   "cell_type": "code",
   "execution_count": 72,
   "id": "ebc181c3",
   "metadata": {},
   "outputs": [
    {
     "name": "stdout",
     "output_type": "stream",
     "text": [
      "                 Premier_Pokemon  Second_Pokemon  NBR_COMBATS  NBR_VICTOIRES  \\\n",
      "Pokemon_Gagnant                                                                \n",
      "1                             37              37          133             37   \n",
      "2                             46              46          121             46   \n",
      "3                             89              89          132             89   \n",
      "4                             70              70          125             70   \n",
      "5                             55              55          112             55   \n",
      "...                          ...             ...          ...            ...   \n",
      "796                           39              39          105             39   \n",
      "797                          116             116          131            116   \n",
      "798                           60              60          119             60   \n",
      "799                           89              89          144             89   \n",
      "800                           75              75          121             75   \n",
      "\n",
      "                 POURCENTAGE_DE_VICTOIRES  \n",
      "Pokemon_Gagnant                            \n",
      "1                                0.278195  \n",
      "2                                0.380165  \n",
      "3                                0.674242  \n",
      "4                                0.560000  \n",
      "5                                0.491071  \n",
      "...                                   ...  \n",
      "796                              0.371429  \n",
      "797                              0.885496  \n",
      "798                              0.504202  \n",
      "799                              0.618056  \n",
      "800                              0.619835  \n",
      "\n",
      "[783 rows x 5 columns]\n"
     ]
    }
   ],
   "source": [
    "#Création d’une liste pour l’agrégation\n",
    "listeAAgreger = combats.groupby('Pokemon_Gagnant').count()\n",
    "listeAAgreger.sort_index()\n",
    "\n",
    "# Ajout du nombre total de combats\n",
    "listeAAgreger['NBR_COMBATS'] = nbFoisPremierePosition.Pokemon_Gagnant + nbFoisSecondePosition.Pokemon_Gagnant\n",
    "\n",
    "# Ajout du nombre de victoires\n",
    "listeAAgreger['NBR_VICTOIRES'] = nombreDeVictoires.Premier_Pokemon\n",
    "\n",
    "# Calcul du pourcentage de victoires\n",
    "listeAAgreger['POURCENTAGE_DE_VICTOIRES'] = nombreDeVictoires.Premier_Pokemon / listeAAgreger['NBR_COMBATS']\n",
    "\n",
    "# Affichage du résultat\n",
    "print(listeAAgreger)\n"
   ]
  },
  {
   "cell_type": "code",
   "execution_count": 73,
   "id": "f1dcdff2",
   "metadata": {},
   "outputs": [
    {
     "name": "stdout",
     "output_type": "stream",
     "text": [
      "         NUMERO  POINTS_DE_VIE  NIVEAU_ATTAQUE  NIVEAU_DEFENSE  \\\n",
      "count  800.0000     800.000000      800.000000      800.000000   \n",
      "mean   400.5000      69.258750       79.001250       73.842500   \n",
      "std    231.0844      25.534669       32.457366       31.183501   \n",
      "min      1.0000       1.000000        5.000000        5.000000   \n",
      "25%    200.7500      50.000000       55.000000       50.000000   \n",
      "50%    400.5000      65.000000       75.000000       70.000000   \n",
      "75%    600.2500      80.000000      100.000000       90.000000   \n",
      "max    800.0000     255.000000      190.000000      230.000000   \n",
      "\n",
      "       NIVEAU_ATTAQUE_SPECIALE  NIVEAU_DEFENSE_SPECIALE     VITESSE  \\\n",
      "count               800.000000               800.000000  800.000000   \n",
      "mean                 72.820000                71.902500   68.277500   \n",
      "std                  32.722294                27.828916   29.060474   \n",
      "min                  10.000000                20.000000    5.000000   \n",
      "25%                  49.750000                50.000000   45.000000   \n",
      "50%                  65.000000                70.000000   65.000000   \n",
      "75%                  95.000000                90.000000   90.000000   \n",
      "max                 194.000000               230.000000  180.000000   \n",
      "\n",
      "       NOMBRE_GENERATIONS  LEGENDAIRE  Premier_Pokemon  Second_Pokemon  \\\n",
      "count           800.00000   800.00000       783.000000      783.000000   \n",
      "mean              3.32375     0.08125        63.856960       63.856960   \n",
      "std               1.66129     0.27339        32.925941       32.925941   \n",
      "min               1.00000     0.00000         3.000000        3.000000   \n",
      "25%               2.00000     0.00000        36.000000       36.000000   \n",
      "50%               3.00000     0.00000        62.000000       62.000000   \n",
      "75%               5.00000     0.00000        91.000000       91.000000   \n",
      "max               6.00000     1.00000       152.000000      152.000000   \n",
      "\n",
      "       NBR_COMBATS  NBR_VICTOIRES  POURCENTAGE_DE_VICTOIRES  \n",
      "count   783.000000     783.000000                783.000000  \n",
      "mean    127.541507      63.856960                  0.501538  \n",
      "std      11.397402      32.925941                  0.254993  \n",
      "min      92.000000       3.000000                  0.021739  \n",
      "25%     120.000000      36.000000                  0.284228  \n",
      "50%     128.000000      62.000000                  0.491071  \n",
      "75%     135.000000      91.000000                  0.717644  \n",
      "max     164.000000     152.000000                  0.984496  \n"
     ]
    }
   ],
   "source": [
    "#Agrégation avec le Pokédex\n",
    "nouveauPokedex = nosPokemonsClean.merge(\n",
    "    listeAAgreger, \n",
    "    left_on='NUMERO', \n",
    "    right_index=True, \n",
    "    how='left'\n",
    ")\n",
    "print(nouveauPokedex.describe())\n"
   ]
  }
 ],
 "metadata": {
  "kernelspec": {
   "display_name": "Python 3",
   "language": "python",
   "name": "python3"
  },
  "language_info": {
   "codemirror_mode": {
    "name": "ipython",
    "version": 3
   },
   "file_extension": ".py",
   "mimetype": "text/x-python",
   "name": "python",
   "nbconvert_exporter": "python",
   "pygments_lexer": "ipython3",
   "version": "3.12.11"
  }
 },
 "nbformat": 4,
 "nbformat_minor": 5
}
