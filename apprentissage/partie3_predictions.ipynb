{
 "cells": [
  {
   "cell_type": "markdown",
   "id": "aa4d1570",
   "metadata": {},
   "source": [
    "# Fichier quiSeraLeVainqueur"
   ]
  },
  {
   "cell_type": "code",
   "execution_count": 1,
   "id": "a74aa307",
   "metadata": {},
   "outputs": [],
   "source": [
    "# Utiliser le modèle d’apprentissage dans une application\n",
    "\n",
    "#Module de lecture de fichiers CSV\n",
    "import csv\n",
    "#Module de chargement du modèle d'apprentissage\n",
    "import joblib"
   ]
  },
  {
   "cell_type": "code",
   "execution_count": 2,
   "id": "2c2faec5",
   "metadata": {},
   "outputs": [],
   "source": [
    "def rechercheInformationsPokemon(numPokemon,Pokedex):\n",
    "    infosPokemon = []\n",
    "    for pokemon in Pokedex:\n",
    "        if (int(pokemon[0])==numPokemon):\n",
    "            infosPokemon = [pokemon[0],pokemon[1],pokemon[4],pokemon[5],pokemon[6],pokemon[7],pokemon[8],pokemon[9],pokemon[10]]\n",
    "            break\n",
    "    return infosPokemon"
   ]
  },
  {
   "cell_type": "code",
   "execution_count": 3,
   "id": "07134cb3",
   "metadata": {},
   "outputs": [],
   "source": [
    "def prediction (numeroPokemon1, numeroPokemon2,Pokedex):\n",
    "    pokemon1 = rechercheInformationsPokemon(numeroPokemon1, Pokedex)\n",
    "    pokemon2 = rechercheInformationsPokemon(numeroPokemon2, Pokedex)\n",
    "    \n",
    "    modele_prediction = joblib.load('modele/modele_pokemon.mod')\n",
    "    \n",
    "    prediction_Pokemon_1 = modele_prediction.predict([[pokemon1[2],pokemon1[3],pokemon1[4],pokemon1[5],pokemon1[6],pokemon1[7],pokemon1[8]]])\n",
    "    \n",
    "    prediction_Pokemon_2 = modele_prediction.predict([[pokemon2[2], pokemon2[3], pokemon2[4], pokemon2[5], pokemon2[6], pokemon2[7], pokemon2[8]]])\n",
    "    \n",
    "    print (\"COMBAT OPPOSANT : (\"+str(numeroPokemon1)+\") \"+pokemon1[1]+\" à (\"+str(numeroPokemon2)+\") \"+pokemon2[1])\n",
    "    print (\" \"+pokemon1[1]+\": \"+str(prediction_Pokemon_1[0]))\n",
    "    print(\" \" +pokemon2[1] + \": \" + str(prediction_Pokemon_2[0]))\n",
    "    print (\"\")\n",
    "    \n",
    "    if prediction_Pokemon_1>prediction_Pokemon_2:\n",
    "        print(pokemon1[1].upper()+\" EST LE VAINQUEUR !\")\n",
    "    else:\n",
    "        print(pokemon2[1].upper() + \" EST LE VAINQUEUR !\")\n",
    "        \n",
    "    modele_prediction = joblib.load('modele/modele_pokemon.mod')\n",
    "    modele_prediction.predict([[pokemon1[2],pokemon1[3],pokemon1[4],pokemon1[5],pokemon1[6],pokemon1[7],pokemon1[8]]])\n",
    "        "
   ]
  },
  {
   "cell_type": "code",
   "execution_count": 4,
   "id": "189ea62f",
   "metadata": {},
   "outputs": [
    {
     "name": "stdout",
     "output_type": "stream",
     "text": [
      "COMBAT OPPOSANT : (368) Mangriff à (598) Crapustule\n",
      " Mangriff: 92.0\n",
      " Crapustule: 68.0\n",
      "\n",
      "MANGRIFF EST LE VAINQUEUR !\n"
     ]
    }
   ],
   "source": [
    "#Chargement du Pokédex et lancement d'un combat\n",
    "with open(\"datas/pokedex.csv\", newline='') as csvfile:\n",
    "    pokedex = csv.reader(csvfile)\n",
    "    next(pokedex)\n",
    "    prediction(368,598,pokedex)"
   ]
  }
 ],
 "metadata": {
  "kernelspec": {
   "display_name": "Python 3",
   "language": "python",
   "name": "python3"
  },
  "language_info": {
   "codemirror_mode": {
    "name": "ipython",
    "version": 3
   },
   "file_extension": ".py",
   "mimetype": "text/x-python",
   "name": "python",
   "nbconvert_exporter": "python",
   "pygments_lexer": "ipython3",
   "version": "3.12.11"
  }
 },
 "nbformat": 4,
 "nbformat_minor": 5
}
